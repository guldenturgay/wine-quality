{
 "cells": [
  {
   "cell_type": "markdown",
   "metadata": {},
   "source": [
    "# Modeling wine quality based on  physicochemical tests\n",
    "\n",
    "In this project, we will try to decide the best model based on the physicochemical tests for the white_wines.csv dataset sourced from [UCI Machine Learning Repository](http://archive.ics.uci.edu/ml/datasets/Wine+Quality)\n",
    "\n",
    "### Table of contents\n",
    "- [Exploratory Analysis](#Exploratory-Analysis)\n",
    "- [Data Preprocessing](#Data-preprocessing)\n",
    "- [Validation and Model Selection](#Validation-and-Model-Selection)\n",
    "- [Conclusion](#Conclusion)"
   ]
  },
  {
   "cell_type": "markdown",
   "metadata": {},
   "source": [
    "## Exploratory Analysis"
   ]
  },
  {
   "cell_type": "code",
   "execution_count": 1,
   "metadata": {},
   "outputs": [],
   "source": [
    "# Import necessary libraries\n",
    "import matplotlib.pyplot as plt\n",
    "from scipy import stats\n",
    "import seaborn as sns\n",
    "import pandas as pd\n",
    "import numpy as np\n",
    "from sklearn.preprocessing import PolynomialFeatures\n",
    "from sklearn.model_selection import validation_curve\n",
    "from sklearn.ensemble import RandomForestClassifier\n",
    "from sklearn.linear_model import LinearRegression\n",
    "from sklearn.tree import DecisionTreeClassifier\n",
    "from sklearn.metrics import mean_squared_error\n",
    "from sklearn.metrics import roc_auc_score\n",
    "from sklearn.pipeline import make_pipeline\n",
    "from sklearn import preprocessing\n",
    "from sklearn import metrics"
   ]
  },
  {
   "cell_type": "markdown",
   "metadata": {},
   "source": [
    "### Read the file"
   ]
  },
  {
   "cell_type": "code",
   "execution_count": 2,
   "metadata": {},
   "outputs": [
    {
     "name": "stdout",
     "output_type": "stream",
     "text": [
      "(4898, 12)\n"
     ]
    },
    {
     "data": {
      "text/html": [
       "<div>\n",
       "<style scoped>\n",
       "    .dataframe tbody tr th:only-of-type {\n",
       "        vertical-align: middle;\n",
       "    }\n",
       "\n",
       "    .dataframe tbody tr th {\n",
       "        vertical-align: top;\n",
       "    }\n",
       "\n",
       "    .dataframe thead th {\n",
       "        text-align: right;\n",
       "    }\n",
       "</style>\n",
       "<table border=\"1\" class=\"dataframe\">\n",
       "  <thead>\n",
       "    <tr style=\"text-align: right;\">\n",
       "      <th></th>\n",
       "      <th>fixed acidity</th>\n",
       "      <th>volatile acidity</th>\n",
       "      <th>citric acid</th>\n",
       "      <th>residual sugar</th>\n",
       "      <th>chlorides</th>\n",
       "      <th>free sulfur dioxide</th>\n",
       "      <th>total sulfur dioxide</th>\n",
       "      <th>density</th>\n",
       "      <th>pH</th>\n",
       "      <th>sulphates</th>\n",
       "      <th>alcohol</th>\n",
       "      <th>quality</th>\n",
       "    </tr>\n",
       "  </thead>\n",
       "  <tbody>\n",
       "    <tr>\n",
       "      <th>0</th>\n",
       "      <td>7.0</td>\n",
       "      <td>0.27</td>\n",
       "      <td>0.36</td>\n",
       "      <td>20.7</td>\n",
       "      <td>0.045</td>\n",
       "      <td>45.0</td>\n",
       "      <td>170.0</td>\n",
       "      <td>1.0010</td>\n",
       "      <td>3.00</td>\n",
       "      <td>0.45</td>\n",
       "      <td>8.8</td>\n",
       "      <td>6</td>\n",
       "    </tr>\n",
       "    <tr>\n",
       "      <th>1</th>\n",
       "      <td>6.3</td>\n",
       "      <td>0.30</td>\n",
       "      <td>0.34</td>\n",
       "      <td>1.6</td>\n",
       "      <td>0.049</td>\n",
       "      <td>14.0</td>\n",
       "      <td>132.0</td>\n",
       "      <td>0.9940</td>\n",
       "      <td>3.30</td>\n",
       "      <td>0.49</td>\n",
       "      <td>9.5</td>\n",
       "      <td>6</td>\n",
       "    </tr>\n",
       "    <tr>\n",
       "      <th>2</th>\n",
       "      <td>8.1</td>\n",
       "      <td>0.28</td>\n",
       "      <td>0.40</td>\n",
       "      <td>6.9</td>\n",
       "      <td>0.050</td>\n",
       "      <td>30.0</td>\n",
       "      <td>97.0</td>\n",
       "      <td>0.9951</td>\n",
       "      <td>3.26</td>\n",
       "      <td>0.44</td>\n",
       "      <td>10.1</td>\n",
       "      <td>6</td>\n",
       "    </tr>\n",
       "    <tr>\n",
       "      <th>3</th>\n",
       "      <td>7.2</td>\n",
       "      <td>0.23</td>\n",
       "      <td>0.32</td>\n",
       "      <td>8.5</td>\n",
       "      <td>0.058</td>\n",
       "      <td>47.0</td>\n",
       "      <td>186.0</td>\n",
       "      <td>0.9956</td>\n",
       "      <td>3.19</td>\n",
       "      <td>0.40</td>\n",
       "      <td>9.9</td>\n",
       "      <td>6</td>\n",
       "    </tr>\n",
       "    <tr>\n",
       "      <th>4</th>\n",
       "      <td>7.2</td>\n",
       "      <td>0.23</td>\n",
       "      <td>0.32</td>\n",
       "      <td>8.5</td>\n",
       "      <td>0.058</td>\n",
       "      <td>47.0</td>\n",
       "      <td>186.0</td>\n",
       "      <td>0.9956</td>\n",
       "      <td>3.19</td>\n",
       "      <td>0.40</td>\n",
       "      <td>9.9</td>\n",
       "      <td>6</td>\n",
       "    </tr>\n",
       "  </tbody>\n",
       "</table>\n",
       "</div>"
      ],
      "text/plain": [
       "   fixed acidity  volatile acidity  citric acid  residual sugar  chlorides  \\\n",
       "0            7.0              0.27         0.36            20.7      0.045   \n",
       "1            6.3              0.30         0.34             1.6      0.049   \n",
       "2            8.1              0.28         0.40             6.9      0.050   \n",
       "3            7.2              0.23         0.32             8.5      0.058   \n",
       "4            7.2              0.23         0.32             8.5      0.058   \n",
       "\n",
       "   free sulfur dioxide  total sulfur dioxide  density    pH  sulphates  \\\n",
       "0                 45.0                 170.0   1.0010  3.00       0.45   \n",
       "1                 14.0                 132.0   0.9940  3.30       0.49   \n",
       "2                 30.0                  97.0   0.9951  3.26       0.44   \n",
       "3                 47.0                 186.0   0.9956  3.19       0.40   \n",
       "4                 47.0                 186.0   0.9956  3.19       0.40   \n",
       "\n",
       "   alcohol  quality  \n",
       "0      8.8        6  \n",
       "1      9.5        6  \n",
       "2     10.1        6  \n",
       "3      9.9        6  \n",
       "4      9.9        6  "
      ]
     },
     "execution_count": 2,
     "metadata": {},
     "output_type": "execute_result"
    }
   ],
   "source": [
    "# Read the csv file into pandas dataframe\n",
    "white_wines = pd.read_csv('winequality/winequality-white.csv')\n",
    "print(white_wines.shape)\n",
    "white_wines.head()"
   ]
  },
  {
   "cell_type": "markdown",
   "metadata": {},
   "source": [
    "### Check null values"
   ]
  },
  {
   "cell_type": "code",
   "execution_count": 3,
   "metadata": {},
   "outputs": [
    {
     "data": {
      "text/plain": [
       "fixed acidity           False\n",
       "volatile acidity        False\n",
       "citric acid             False\n",
       "residual sugar          False\n",
       "chlorides               False\n",
       "free sulfur dioxide     False\n",
       "total sulfur dioxide    False\n",
       "density                 False\n",
       "pH                      False\n",
       "sulphates               False\n",
       "alcohol                 False\n",
       "quality                 False\n",
       "dtype: bool"
      ]
     },
     "execution_count": 3,
     "metadata": {},
     "output_type": "execute_result"
    }
   ],
   "source": [
    "# Check null values\n",
    "white_wines.isnull().any()"
   ]
  },
  {
   "cell_type": "markdown",
   "metadata": {},
   "source": [
    "### Check correlation between columns"
   ]
  },
  {
   "cell_type": "code",
   "execution_count": 5,
   "metadata": {
    "scrolled": false
   },
   "outputs": [
    {
     "data": {
      "text/plain": [
       "<matplotlib.axes._subplots.AxesSubplot at 0x19396feee80>"
      ]
     },
     "execution_count": 5,
     "metadata": {},
     "output_type": "execute_result"
    },
    {
     "data": {
      "image/png": "[encoded data removed]",
      "text/plain": [
       "<Figure size 432x288 with 2 Axes>"
      ]
     },
     "metadata": {
      "needs_background": "light"
     },
     "output_type": "display_data"
    }
   ],
   "source": [
    "# Correlations\n",
    "sns.heatmap(white_wines.corr())"
   ]
  },
  {
   "cell_type": "markdown",
   "metadata": {},
   "source": [
    "### Descriptive statistics"
   ]
  },
  {
   "cell_type": "code",
   "execution_count": 4,
   "metadata": {
    "scrolled": true
   },
   "outputs": [
    {
     "data": {
      "text/html": [
       "<div>\n",
       "<style scoped>\n",
       "    .dataframe tbody tr th:only-of-type {\n",
       "        vertical-align: middle;\n",
       "    }\n",
       "\n",
       "    .dataframe tbody tr th {\n",
       "        vertical-align: top;\n",
       "    }\n",
       "\n",
       "    .dataframe thead th {\n",
       "        text-align: right;\n",
       "    }\n",
       "</style>\n",
       "<table border=\"1\" class=\"dataframe\">\n",
       "  <thead>\n",
       "    <tr style=\"text-align: right;\">\n",
       "      <th></th>\n",
       "      <th>fixed acidity</th>\n",
       "      <th>volatile acidity</th>\n",
       "      <th>citric acid</th>\n",
       "      <th>residual sugar</th>\n",
       "      <th>chlorides</th>\n",
       "      <th>free sulfur dioxide</th>\n",
       "      <th>total sulfur dioxide</th>\n",
       "      <th>density</th>\n",
       "      <th>pH</th>\n",
       "      <th>sulphates</th>\n",
       "      <th>alcohol</th>\n",
       "      <th>quality</th>\n",
       "    </tr>\n",
       "  </thead>\n",
       "  <tbody>\n",
       "    <tr>\n",
       "      <th>count</th>\n",
       "      <td>4898.000000</td>\n",
       "      <td>4898.000000</td>\n",
       "      <td>4898.000000</td>\n",
       "      <td>4898.000000</td>\n",
       "      <td>4898.000000</td>\n",
       "      <td>4898.000000</td>\n",
       "      <td>4898.000000</td>\n",
       "      <td>4898.000000</td>\n",
       "      <td>4898.000000</td>\n",
       "      <td>4898.000000</td>\n",
       "      <td>4898.000000</td>\n",
       "      <td>4898.000000</td>\n",
       "    </tr>\n",
       "    <tr>\n",
       "      <th>mean</th>\n",
       "      <td>6.854788</td>\n",
       "      <td>0.278241</td>\n",
       "      <td>0.334192</td>\n",
       "      <td>6.391415</td>\n",
       "      <td>0.045772</td>\n",
       "      <td>35.308085</td>\n",
       "      <td>138.360657</td>\n",
       "      <td>0.994027</td>\n",
       "      <td>3.188267</td>\n",
       "      <td>0.489847</td>\n",
       "      <td>10.514267</td>\n",
       "      <td>5.877909</td>\n",
       "    </tr>\n",
       "    <tr>\n",
       "      <th>std</th>\n",
       "      <td>0.843868</td>\n",
       "      <td>0.100795</td>\n",
       "      <td>0.121020</td>\n",
       "      <td>5.072058</td>\n",
       "      <td>0.021848</td>\n",
       "      <td>17.007137</td>\n",
       "      <td>42.498065</td>\n",
       "      <td>0.002991</td>\n",
       "      <td>0.151001</td>\n",
       "      <td>0.114126</td>\n",
       "      <td>1.230621</td>\n",
       "      <td>0.885639</td>\n",
       "    </tr>\n",
       "    <tr>\n",
       "      <th>min</th>\n",
       "      <td>3.800000</td>\n",
       "      <td>0.080000</td>\n",
       "      <td>0.000000</td>\n",
       "      <td>0.600000</td>\n",
       "      <td>0.009000</td>\n",
       "      <td>2.000000</td>\n",
       "      <td>9.000000</td>\n",
       "      <td>0.987110</td>\n",
       "      <td>2.720000</td>\n",
       "      <td>0.220000</td>\n",
       "      <td>8.000000</td>\n",
       "      <td>3.000000</td>\n",
       "    </tr>\n",
       "    <tr>\n",
       "      <th>25%</th>\n",
       "      <td>6.300000</td>\n",
       "      <td>0.210000</td>\n",
       "      <td>0.270000</td>\n",
       "      <td>1.700000</td>\n",
       "      <td>0.036000</td>\n",
       "      <td>23.000000</td>\n",
       "      <td>108.000000</td>\n",
       "      <td>0.991723</td>\n",
       "      <td>3.090000</td>\n",
       "      <td>0.410000</td>\n",
       "      <td>9.500000</td>\n",
       "      <td>5.000000</td>\n",
       "    </tr>\n",
       "    <tr>\n",
       "      <th>50%</th>\n",
       "      <td>6.800000</td>\n",
       "      <td>0.260000</td>\n",
       "      <td>0.320000</td>\n",
       "      <td>5.200000</td>\n",
       "      <td>0.043000</td>\n",
       "      <td>34.000000</td>\n",
       "      <td>134.000000</td>\n",
       "      <td>0.993740</td>\n",
       "      <td>3.180000</td>\n",
       "      <td>0.470000</td>\n",
       "      <td>10.400000</td>\n",
       "      <td>6.000000</td>\n",
       "    </tr>\n",
       "    <tr>\n",
       "      <th>75%</th>\n",
       "      <td>7.300000</td>\n",
       "      <td>0.320000</td>\n",
       "      <td>0.390000</td>\n",
       "      <td>9.900000</td>\n",
       "      <td>0.050000</td>\n",
       "      <td>46.000000</td>\n",
       "      <td>167.000000</td>\n",
       "      <td>0.996100</td>\n",
       "      <td>3.280000</td>\n",
       "      <td>0.550000</td>\n",
       "      <td>11.400000</td>\n",
       "      <td>6.000000</td>\n",
       "    </tr>\n",
       "    <tr>\n",
       "      <th>max</th>\n",
       "      <td>14.200000</td>\n",
       "      <td>1.100000</td>\n",
       "      <td>1.660000</td>\n",
       "      <td>65.800000</td>\n",
       "      <td>0.346000</td>\n",
       "      <td>289.000000</td>\n",
       "      <td>440.000000</td>\n",
       "      <td>1.038980</td>\n",
       "      <td>3.820000</td>\n",
       "      <td>1.080000</td>\n",
       "      <td>14.200000</td>\n",
       "      <td>9.000000</td>\n",
       "    </tr>\n",
       "  </tbody>\n",
       "</table>\n",
       "</div>"
      ],
      "text/plain": [
       "       fixed acidity  volatile acidity  citric acid  residual sugar  \\\n",
       "count    4898.000000       4898.000000  4898.000000     4898.000000   \n",
       "mean        6.854788          0.278241     0.334192        6.391415   \n",
       "std         0.843868          0.100795     0.121020        5.072058   \n",
       "min         3.800000          0.080000     0.000000        0.600000   \n",
       "25%         6.300000          0.210000     0.270000        1.700000   \n",
       "50%         6.800000          0.260000     0.320000        5.200000   \n",
       "75%         7.300000          0.320000     0.390000        9.900000   \n",
       "max        14.200000          1.100000     1.660000       65.800000   \n",
       "\n",
       "         chlorides  free sulfur dioxide  total sulfur dioxide      density  \\\n",
       "count  4898.000000          4898.000000           4898.000000  4898.000000   \n",
       "mean      0.045772            35.308085            138.360657     0.994027   \n",
       "std       0.021848            17.007137             42.498065     0.002991   \n",
       "min       0.009000             2.000000              9.000000     0.987110   \n",
       "25%       0.036000            23.000000            108.000000     0.991723   \n",
       "50%       0.043000            34.000000            134.000000     0.993740   \n",
       "75%       0.050000            46.000000            167.000000     0.996100   \n",
       "max       0.346000           289.000000            440.000000     1.038980   \n",
       "\n",
       "                pH    sulphates      alcohol      quality  \n",
       "count  4898.000000  4898.000000  4898.000000  4898.000000  \n",
       "mean      3.188267     0.489847    10.514267     5.877909  \n",
       "std       0.151001     0.114126     1.230621     0.885639  \n",
       "min       2.720000     0.220000     8.000000     3.000000  \n",
       "25%       3.090000     0.410000     9.500000     5.000000  \n",
       "50%       3.180000     0.470000    10.400000     6.000000  \n",
       "75%       3.280000     0.550000    11.400000     6.000000  \n",
       "max       3.820000     1.080000    14.200000     9.000000  "
      ]
     },
     "execution_count": 4,
     "metadata": {},
     "output_type": "execute_result"
    }
   ],
   "source": [
    "# Descriptive statistics\n",
    "white_wines.describe()"
   ]
  },
  {
   "cell_type": "markdown",
   "metadata": {},
   "source": [
    "It seems like we have some outliers in our dataset. Let's take a look at the 'residual sugar' feature for example."
   ]
  },
  {
   "cell_type": "code",
   "execution_count": 6,
   "metadata": {},
   "outputs": [
    {
     "data": {
      "text/plain": [
       "<matplotlib.axes._subplots.AxesSubplot at 0x193977dac18>"
      ]
     },
     "execution_count": 6,
     "metadata": {},
     "output_type": "execute_result"
    },
    {
     "data": {
      "image/png": "[encoded data removed]",
      "text/plain": [
       "<Figure size 432x288 with 1 Axes>"
      ]
     },
     "metadata": {
      "needs_background": "light"
     },
     "output_type": "display_data"
    }
   ],
   "source": [
    "# One outlier example\n",
    "sns.boxplot(white_wines['residual sugar'])"
   ]
  },
  {
   "cell_type": "markdown",
   "metadata": {},
   "source": [
    "#### Eliminating outliers by Z-score\n",
    "\n",
    "Mathematical formulation of the z-score is:\n",
    "\\begin{equation}\n",
    "z = \\frac{X - \\mu}{\\sigma}\n",
    "\\end{equation}\n",
    "\n",
    "Its interpretation is take the data point or observation, substract the mean of the population and divide it by the standard deviation. The data points which are too far from zero z-score are considered as outliers. In most cases threshold for outlier detection is either z-score>3 or z-score<-3. For this purpose we will use zscore function defined in SciPy library and set the threshold=3. "
   ]
  },
  {
   "cell_type": "code",
   "execution_count": 7,
   "metadata": {},
   "outputs": [
    {
     "name": "stdout",
     "output_type": "stream",
     "text": [
      "[[1.72096961e-01 8.17699008e-02 2.13280202e-01 ... 3.49184257e-01\n",
      "  1.39315246e+00 1.37870140e-01]\n",
      " [6.57501128e-01 2.15895632e-01 4.80011213e-02 ... 1.34184656e-03\n",
      "  8.24275678e-01 1.37870140e-01]\n",
      " [1.47575110e+00 1.74519434e-02 5.43838363e-01 ... 4.36815783e-01\n",
      "  3.36667007e-01 1.37870140e-01]\n",
      " ...\n",
      " [4.20473102e-01 3.79435433e-01 1.19159198e+00 ... 2.61552731e-01\n",
      "  9.05543789e-01 1.37870140e-01]\n",
      " [1.60561323e+00 1.16673788e-01 2.82557040e-01 ... 9.62604939e-01\n",
      "  1.85757201e+00 1.26711420e+00]\n",
      " [1.01304317e+00 6.77100966e-01 3.78559282e-01 ... 1.48839409e+00\n",
      "  1.04489089e+00 1.37870140e-01]]\n"
     ]
    }
   ],
   "source": [
    "# Get z scores\n",
    "z = np.abs(stats.zscore(white_wines))\n",
    "print(z)"
   ]
  },
  {
   "cell_type": "code",
   "execution_count": 8,
   "metadata": {},
   "outputs": [
    {
     "data": {
      "text/plain": [
       "(4487, 12)"
      ]
     },
     "execution_count": 8,
     "metadata": {},
     "output_type": "execute_result"
    }
   ],
   "source": [
    "# Drop columns above z=3 threshold\n",
    "white_wines = white_wines[(z < 3).all(axis=1)]\n",
    "white_wines.shape"
   ]
  },
  {
   "cell_type": "code",
   "execution_count": 9,
   "metadata": {},
   "outputs": [
    {
     "data": {
      "text/html": [
       "<div>\n",
       "<style scoped>\n",
       "    .dataframe tbody tr th:only-of-type {\n",
       "        vertical-align: middle;\n",
       "    }\n",
       "\n",
       "    .dataframe tbody tr th {\n",
       "        vertical-align: top;\n",
       "    }\n",
       "\n",
       "    .dataframe thead th {\n",
       "        text-align: right;\n",
       "    }\n",
       "</style>\n",
       "<table border=\"1\" class=\"dataframe\">\n",
       "  <thead>\n",
       "    <tr style=\"text-align: right;\">\n",
       "      <th></th>\n",
       "      <th>fixed acidity</th>\n",
       "      <th>volatile acidity</th>\n",
       "      <th>citric acid</th>\n",
       "      <th>residual sugar</th>\n",
       "      <th>chlorides</th>\n",
       "      <th>free sulfur dioxide</th>\n",
       "      <th>total sulfur dioxide</th>\n",
       "      <th>density</th>\n",
       "      <th>pH</th>\n",
       "      <th>sulphates</th>\n",
       "      <th>alcohol</th>\n",
       "      <th>quality</th>\n",
       "    </tr>\n",
       "  </thead>\n",
       "  <tbody>\n",
       "    <tr>\n",
       "      <th>count</th>\n",
       "      <td>4487.000000</td>\n",
       "      <td>4487.000000</td>\n",
       "      <td>4487.000000</td>\n",
       "      <td>4487.000000</td>\n",
       "      <td>4487.000000</td>\n",
       "      <td>4487.000000</td>\n",
       "      <td>4487.000000</td>\n",
       "      <td>4487.000000</td>\n",
       "      <td>4487.000000</td>\n",
       "      <td>4487.000000</td>\n",
       "      <td>4487.000000</td>\n",
       "      <td>4487.000000</td>\n",
       "    </tr>\n",
       "    <tr>\n",
       "      <th>mean</th>\n",
       "      <td>6.839570</td>\n",
       "      <td>0.271365</td>\n",
       "      <td>0.326410</td>\n",
       "      <td>6.416503</td>\n",
       "      <td>0.043169</td>\n",
       "      <td>34.855471</td>\n",
       "      <td>137.607087</td>\n",
       "      <td>0.993967</td>\n",
       "      <td>3.188043</td>\n",
       "      <td>0.485538</td>\n",
       "      <td>10.537463</td>\n",
       "      <td>5.915311</td>\n",
       "    </tr>\n",
       "    <tr>\n",
       "      <th>std</th>\n",
       "      <td>0.786279</td>\n",
       "      <td>0.086109</td>\n",
       "      <td>0.101101</td>\n",
       "      <td>4.953728</td>\n",
       "      <td>0.011709</td>\n",
       "      <td>15.417406</td>\n",
       "      <td>41.281527</td>\n",
       "      <td>0.002908</td>\n",
       "      <td>0.143446</td>\n",
       "      <td>0.105856</td>\n",
       "      <td>1.225441</td>\n",
       "      <td>0.854014</td>\n",
       "    </tr>\n",
       "    <tr>\n",
       "      <th>min</th>\n",
       "      <td>4.400000</td>\n",
       "      <td>0.080000</td>\n",
       "      <td>0.000000</td>\n",
       "      <td>0.600000</td>\n",
       "      <td>0.012000</td>\n",
       "      <td>2.000000</td>\n",
       "      <td>21.000000</td>\n",
       "      <td>0.987110</td>\n",
       "      <td>2.790000</td>\n",
       "      <td>0.220000</td>\n",
       "      <td>8.400000</td>\n",
       "      <td>4.000000</td>\n",
       "    </tr>\n",
       "    <tr>\n",
       "      <th>25%</th>\n",
       "      <td>6.300000</td>\n",
       "      <td>0.210000</td>\n",
       "      <td>0.270000</td>\n",
       "      <td>1.775000</td>\n",
       "      <td>0.035000</td>\n",
       "      <td>23.000000</td>\n",
       "      <td>108.000000</td>\n",
       "      <td>0.991680</td>\n",
       "      <td>3.090000</td>\n",
       "      <td>0.410000</td>\n",
       "      <td>9.500000</td>\n",
       "      <td>5.000000</td>\n",
       "    </tr>\n",
       "    <tr>\n",
       "      <th>50%</th>\n",
       "      <td>6.800000</td>\n",
       "      <td>0.260000</td>\n",
       "      <td>0.310000</td>\n",
       "      <td>5.300000</td>\n",
       "      <td>0.043000</td>\n",
       "      <td>34.000000</td>\n",
       "      <td>133.000000</td>\n",
       "      <td>0.993700</td>\n",
       "      <td>3.180000</td>\n",
       "      <td>0.470000</td>\n",
       "      <td>10.400000</td>\n",
       "      <td>6.000000</td>\n",
       "    </tr>\n",
       "    <tr>\n",
       "      <th>75%</th>\n",
       "      <td>7.300000</td>\n",
       "      <td>0.320000</td>\n",
       "      <td>0.380000</td>\n",
       "      <td>9.900000</td>\n",
       "      <td>0.050000</td>\n",
       "      <td>45.000000</td>\n",
       "      <td>166.000000</td>\n",
       "      <td>0.996100</td>\n",
       "      <td>3.280000</td>\n",
       "      <td>0.540000</td>\n",
       "      <td>11.400000</td>\n",
       "      <td>6.000000</td>\n",
       "    </tr>\n",
       "    <tr>\n",
       "      <th>max</th>\n",
       "      <td>9.300000</td>\n",
       "      <td>0.580000</td>\n",
       "      <td>0.690000</td>\n",
       "      <td>20.800000</td>\n",
       "      <td>0.110000</td>\n",
       "      <td>86.000000</td>\n",
       "      <td>260.000000</td>\n",
       "      <td>1.001960</td>\n",
       "      <td>3.640000</td>\n",
       "      <td>0.830000</td>\n",
       "      <td>14.200000</td>\n",
       "      <td>8.000000</td>\n",
       "    </tr>\n",
       "  </tbody>\n",
       "</table>\n",
       "</div>"
      ],
      "text/plain": [
       "       fixed acidity  volatile acidity  citric acid  residual sugar  \\\n",
       "count    4487.000000       4487.000000  4487.000000     4487.000000   \n",
       "mean        6.839570          0.271365     0.326410        6.416503   \n",
       "std         0.786279          0.086109     0.101101        4.953728   \n",
       "min         4.400000          0.080000     0.000000        0.600000   \n",
       "25%         6.300000          0.210000     0.270000        1.775000   \n",
       "50%         6.800000          0.260000     0.310000        5.300000   \n",
       "75%         7.300000          0.320000     0.380000        9.900000   \n",
       "max         9.300000          0.580000     0.690000       20.800000   \n",
       "\n",
       "         chlorides  free sulfur dioxide  total sulfur dioxide      density  \\\n",
       "count  4487.000000          4487.000000           4487.000000  4487.000000   \n",
       "mean      0.043169            34.855471            137.607087     0.993967   \n",
       "std       0.011709            15.417406             41.281527     0.002908   \n",
       "min       0.012000             2.000000             21.000000     0.987110   \n",
       "25%       0.035000            23.000000            108.000000     0.991680   \n",
       "50%       0.043000            34.000000            133.000000     0.993700   \n",
       "75%       0.050000            45.000000            166.000000     0.996100   \n",
       "max       0.110000            86.000000            260.000000     1.001960   \n",
       "\n",
       "                pH    sulphates      alcohol      quality  \n",
       "count  4487.000000  4487.000000  4487.000000  4487.000000  \n",
       "mean      3.188043     0.485538    10.537463     5.915311  \n",
       "std       0.143446     0.105856     1.225441     0.854014  \n",
       "min       2.790000     0.220000     8.400000     4.000000  \n",
       "25%       3.090000     0.410000     9.500000     5.000000  \n",
       "50%       3.180000     0.470000    10.400000     6.000000  \n",
       "75%       3.280000     0.540000    11.400000     6.000000  \n",
       "max       3.640000     0.830000    14.200000     8.000000  "
      ]
     },
     "execution_count": 9,
     "metadata": {},
     "output_type": "execute_result"
    }
   ],
   "source": [
    "# Descriptive statistics\n",
    "white_wines.describe()"
   ]
  },
  {
   "cell_type": "markdown",
   "metadata": {},
   "source": [
    "### Check class imbalance"
   ]
  },
  {
   "cell_type": "code",
   "execution_count": 10,
   "metadata": {},
   "outputs": [
    {
     "data": {
      "text/plain": [
       "6    2038\n",
       "5    1309\n",
       "7     855\n",
       "8     161\n",
       "4     124\n",
       "Name: quality, dtype: int64"
      ]
     },
     "execution_count": 10,
     "metadata": {},
     "output_type": "execute_result"
    }
   ],
   "source": [
    "# To see if there is any class imbalance\n",
    "white_wines['quality'].value_counts()"
   ]
  },
  {
   "cell_type": "markdown",
   "metadata": {},
   "source": [
    "Since there is a __high class imbalance__ in our dataset, we will analyze it accordingly."
   ]
  },
  {
   "cell_type": "markdown",
   "metadata": {},
   "source": [
    "## Data preprocessing"
   ]
  },
  {
   "cell_type": "code",
   "execution_count": 11,
   "metadata": {},
   "outputs": [
    {
     "data": {
      "text/plain": [
       "array([[7.000e+00, 2.700e-01, 3.600e-01, 2.070e+01, 4.500e-02, 4.500e+01,\n",
       "        1.700e+02, 1.001e+00, 3.000e+00, 4.500e-01, 8.800e+00],\n",
       "       [6.300e+00, 3.000e-01, 3.400e-01, 1.600e+00, 4.900e-02, 1.400e+01,\n",
       "        1.320e+02, 9.940e-01, 3.300e+00, 4.900e-01, 9.500e+00],\n",
       "       [8.100e+00, 2.800e-01, 4.000e-01, 6.900e+00, 5.000e-02, 3.000e+01,\n",
       "        9.700e+01, 9.951e-01, 3.260e+00, 4.400e-01, 1.010e+01],\n",
       "       [7.200e+00, 2.300e-01, 3.200e-01, 8.500e+00, 5.800e-02, 4.700e+01,\n",
       "        1.860e+02, 9.956e-01, 3.190e+00, 4.000e-01, 9.900e+00],\n",
       "       [7.200e+00, 2.300e-01, 3.200e-01, 8.500e+00, 5.800e-02, 4.700e+01,\n",
       "        1.860e+02, 9.956e-01, 3.190e+00, 4.000e-01, 9.900e+00]])"
      ]
     },
     "execution_count": 11,
     "metadata": {},
     "output_type": "execute_result"
    }
   ],
   "source": [
    "# Define features X\n",
    "X = np.asarray(white_wines.iloc[:,:-1])\n",
    "X[0:5]"
   ]
  },
  {
   "cell_type": "code",
   "execution_count": 12,
   "metadata": {},
   "outputs": [
    {
     "data": {
      "text/plain": [
       "array([6, 6, 6, 6, 6], dtype=int64)"
      ]
     },
     "execution_count": 12,
     "metadata": {},
     "output_type": "execute_result"
    }
   ],
   "source": [
    "# Define target y\n",
    "y = np.asarray(white_wines['quality'])\n",
    "y[0:5]"
   ]
  },
  {
   "cell_type": "code",
   "execution_count": 13,
   "metadata": {},
   "outputs": [
    {
     "data": {
      "text/plain": [
       "array([[ 0.20405985, -0.01585446,  0.33228199,  2.8837046 ,  0.15636646,\n",
       "         0.65806528,  0.78477047,  2.41896215, -1.3110488 , -0.33575895,\n",
       "        -1.41798425],\n",
       "       [-0.68630841,  0.33258131,  0.1344384 , -0.97240702,  0.49803497,\n",
       "        -1.35287326, -0.13584071,  0.01124404,  0.78056932,  0.04215411,\n",
       "        -0.84669787],\n",
       "       [ 1.60320999,  0.1002908 ,  0.72796916,  0.09761348,  0.5834521 ,\n",
       "        -0.3149695 , -0.98377206,  0.38959974,  0.5016869 , -0.43023721,\n",
       "        -0.35702383],\n",
       "       [ 0.45845079, -0.48043549, -0.06340519,  0.42063854,  1.26678914,\n",
       "         0.78780325,  1.17239622,  0.56157961,  0.01364268, -0.80815027,\n",
       "        -0.52024851],\n",
       "       [ 0.45845079, -0.48043549, -0.06340519,  0.42063854,  1.26678914,\n",
       "         0.78780325,  1.17239622,  0.56157961,  0.01364268, -0.80815027,\n",
       "        -0.52024851]])"
      ]
     },
     "execution_count": 13,
     "metadata": {},
     "output_type": "execute_result"
    }
   ],
   "source": [
    "# Nomalize the dataset\n",
    "from sklearn import preprocessing\n",
    "X = preprocessing.StandardScaler().fit(X).transform(X)\n",
    "X[0:5]"
   ]
  },
  {
   "cell_type": "markdown",
   "metadata": {},
   "source": [
    "## Validation and Model Selection\n",
    "\n",
    "We will train the most common classification algorithms with our train dataset and then compare them all. "
   ]
  },
  {
   "cell_type": "markdown",
   "metadata": {},
   "source": [
    "### Train/Test Dataset\n",
    "Let's split dataset into 80% train and 20% test set."
   ]
  },
  {
   "cell_type": "code",
   "execution_count": 14,
   "metadata": {},
   "outputs": [
    {
     "name": "stdout",
     "output_type": "stream",
     "text": [
      "Train set: (3589, 11) (3589,)\n",
      "Test set: (898, 11) (898,)\n"
     ]
    }
   ],
   "source": [
    "# Split the dataset into train and test sets\n",
    "from sklearn.model_selection import train_test_split\n",
    "X_train, X_test, y_train, y_test = train_test_split( X, y, test_size=0.2, random_state=0)\n",
    "print ('Train set:', X_train.shape,  y_train.shape)\n",
    "print ('Test set:', X_test.shape,  y_test.shape)"
   ]
  },
  {
   "cell_type": "markdown",
   "metadata": {},
   "source": [
    "### K-Nearest Neighbor"
   ]
  },
  {
   "cell_type": "markdown",
   "metadata": {},
   "source": [
    "Let's start with plotting the change in accuracy with the change of k number."
   ]
  },
  {
   "cell_type": "markdown",
   "metadata": {},
   "source": [
    "#### KNN accuracy plot"
   ]
  },
  {
   "cell_type": "code",
   "execution_count": 15,
   "metadata": {},
   "outputs": [],
   "source": [
    "from sklearn.neighbors import KNeighborsClassifier\n",
    "from sklearn.model_selection import cross_val_score\n",
    "\n",
    "# Number of k from 1 to 26\n",
    "k_range = range(1, 26)\n",
    "\n",
    "k_scores = []\n",
    "\n",
    "# Calculate cross validation score for every k number from 1 to 26\n",
    "for k in k_range:\n",
    "    knn = KNeighborsClassifier(n_neighbors=k)\n",
    "    scores = cross_val_score(knn, X, y, cv=10, scoring='accuracy') # It's 10 fold cross validation with 'accuracy' scoring\n",
    "    k_scores.append(scores.mean())"
   ]
  },
  {
   "cell_type": "code",
   "execution_count": 16,
   "metadata": {},
   "outputs": [
    {
     "data": {
      "text/plain": [
       "Text(0, 0.5, 'Cross-validated accuracy')"
      ]
     },
     "execution_count": 16,
     "metadata": {},
     "output_type": "execute_result"
    },
    {
     "data": {
      "image/png": "[encoded data removed]",
      "text/plain": [
       "<Figure size 432x288 with 1 Axes>"
      ]
     },
     "metadata": {
      "needs_background": "light"
     },
     "output_type": "display_data"
    }
   ],
   "source": [
    "%matplotlib inline\n",
    "\n",
    "plt.plot(k_range, k_scores)\n",
    "plt.xlabel('Value of K for KNN')\n",
    "plt.ylabel('Cross-validated accuracy')"
   ]
  },
  {
   "cell_type": "markdown",
   "metadata": {},
   "source": [
    "It's seems like k= 19 or k=23 might be ideal."
   ]
  },
  {
   "cell_type": "code",
   "execution_count": 17,
   "metadata": {},
   "outputs": [
    {
     "name": "stdout",
     "output_type": "stream",
     "text": [
      "507 / 898 correct\n"
     ]
    }
   ],
   "source": [
    "# Train model and predict for k=19\n",
    "knn = KNeighborsClassifier(n_neighbors=19) # \n",
    "knn.fit(X_train, y_train)\n",
    "y_pred = knn.predict(X_test)\n",
    "print(\"{0} / {1} correct\".format(np.sum(y_test == y_pred), len(y_test)))"
   ]
  },
  {
   "cell_type": "markdown",
   "metadata": {},
   "source": [
    "#### Cross Validation for KNN\n",
    "\n",
    "Now we will apply K-fold cross validation score with __10 folds__ with both __'accuracy'__ and __'roc_auc_ovr'__ scoring parameters to our model and see the results. In addition to that, we will also calculate the roc_auc_score with __multiclass= 'ovr'__ parameter. Since we have multi classes in our dataset, which means there isn't only binary (0 or 1) classes, we will pass in the multiclass='ovr' parameter. This will provide computing the AUC of each class against the rest (__One-vs-Rest__) and it is sensitive to class imbalance."
   ]
  },
  {
   "cell_type": "code",
   "execution_count": 18,
   "metadata": {},
   "outputs": [
    {
     "name": "stdout",
     "output_type": "stream",
     "text": [
      "              precision    recall  f1-score   support\n",
      "\n",
      "           4      1.000     0.000     0.000        27\n",
      "           5      0.575     0.541     0.557       270\n",
      "           6      0.562     0.715     0.630       411\n",
      "           7      0.554     0.401     0.465       167\n",
      "           8      1.000     0.000     0.000        23\n",
      "\n",
      "    accuracy                          0.565       898\n",
      "   macro avg      0.738     0.331     0.330       898\n",
      "weighted avg      0.589     0.565     0.542       898\n",
      "\n",
      "cross validation score 0.5208508988227808\n",
      "cross validation score with roc_auc 0.7089859400420266\n",
      "roc_auc_score 0.790981463828026\n"
     ]
    }
   ],
   "source": [
    "from sklearn.metrics import accuracy_score\n",
    "\n",
    "# classification report for test set\n",
    "print(metrics.classification_report(y_test, y_pred, digits=3, zero_division = 1))\n",
    "\n",
    "# Calculate cv score with 'accuracy' scoring and 10 folds\n",
    "accuracy = cross_val_score(knn, X, y, scoring = 'accuracy',cv=10)\n",
    "print('cross validation score',accuracy.mean())\n",
    "\n",
    "# Calculate cv score with 'roc_auc_ovr' scoring and 10 folds\n",
    "accuracy = cross_val_score(knn, X, y, scoring = 'roc_auc_ovr',cv=10)\n",
    "print('cross validation score with roc_auc',accuracy.mean())\n",
    "\n",
    "# Calculate roc_auc score with multiclass parameter\n",
    "print('roc_auc_score',roc_auc_score(y_test,knn.predict_proba(X_test), multi_class='ovr'))"
   ]
  },
  {
   "cell_type": "markdown",
   "metadata": {},
   "source": [
    "Even though multi class cross validation score is around 0.71, the recall of the minority classes is zero. This means the model is biased towards the majority classes and it's not the best model. Since it's higly imbalanced, it's better to use cross validation method with 'roc_auc_ovr' scoring instead of 'accuracy' scoring."
   ]
  },
  {
   "cell_type": "markdown",
   "metadata": {},
   "source": [
    "### Logistic Regression\n",
    "\n",
    "Let's see if logistic regression model fits our dataset. Even though logistic regression is a classifier for binary classes, we will pass the multi_class= 'multinomial' parameter in and apply it for our multi-class dataset."
   ]
  },
  {
   "cell_type": "code",
   "execution_count": 19,
   "metadata": {},
   "outputs": [
    {
     "name": "stdout",
     "output_type": "stream",
     "text": [
      "              precision    recall  f1-score   support\n",
      "\n",
      "           4      1.000     0.000     0.000        27\n",
      "           5      0.580     0.470     0.519       270\n",
      "           6      0.513     0.745     0.608       411\n",
      "           7      0.458     0.228     0.304       167\n",
      "           8      1.000     0.000     0.000        23\n",
      "\n",
      "    accuracy                          0.524       898\n",
      "   macro avg      0.710     0.288     0.286       898\n",
      "weighted avg      0.550     0.524     0.491       898\n",
      "\n",
      "accuracy 0.5244988864142539\n",
      "cross validation score with roc_auc 0.742497984671654\n",
      "roc_auc_score 0.7538056699952047\n"
     ]
    }
   ],
   "source": [
    "# import module\n",
    "from sklearn.linear_model import LogisticRegression\n",
    "\n",
    "# Train and fit model\n",
    "logreg = LogisticRegression(multi_class='multinomial',solver ='newton-cg')\n",
    "logreg.fit(X_train, y_train)\n",
    "\n",
    "# Predict out-of-sample test set\n",
    "y_pred = logreg.predict(X_test)\n",
    "\n",
    "# classification report for test set\n",
    "print(metrics.classification_report(y_test, y_pred, digits=3, zero_division = 1))\n",
    "print('accuracy',accuracy_score(y_test, y_pred))\n",
    "\n",
    "# Calculate cv score with 'roc_auc_ovr' scoring and 10 folds\n",
    "accuracy = cross_val_score(logreg, X, y, scoring = 'roc_auc_ovr',cv=10)\n",
    "print('cross validation score with roc_auc',accuracy.mean())\n",
    "\n",
    "# Calculate roc_auc score with multiclass parameter\n",
    "print('roc_auc_score',roc_auc_score(y_test,logreg.predict_proba(X_test), multi_class='ovr'))"
   ]
  },
  {
   "cell_type": "markdown",
   "metadata": {},
   "source": [
    "The cross validation score is now around 0.74 and a little bit higher than earlier but the minority classes still are not represented by this model. Let's try adding polynomial features."
   ]
  },
  {
   "cell_type": "markdown",
   "metadata": {},
   "source": [
    "#### Adding polynomial features to the logistic regression"
   ]
  },
  {
   "cell_type": "code",
   "execution_count": 20,
   "metadata": {},
   "outputs": [],
   "source": [
    "# Add polynomial features to the logistic regression model\n",
    "def PolynomialRegression(degree=2, **kwargs):\n",
    "    return make_pipeline(PolynomialFeatures(degree),\n",
    "                         LogisticRegression(multi_class='multinomial',solver ='newton-cg', **kwargs))"
   ]
  },
  {
   "cell_type": "code",
   "execution_count": 21,
   "metadata": {},
   "outputs": [
    {
     "name": "stdout",
     "output_type": "stream",
     "text": [
      "              precision    recall  f1-score   support\n",
      "\n",
      "           4      0.444     0.148     0.222        27\n",
      "           5      0.567     0.504     0.533       270\n",
      "           6      0.519     0.652     0.578       411\n",
      "           7      0.481     0.371     0.419       167\n",
      "           8      0.250     0.043     0.074        23\n",
      "\n",
      "    accuracy                          0.524       898\n",
      "   macro avg      0.452     0.344     0.365       898\n",
      "weighted avg      0.517     0.524     0.511       898\n",
      "\n",
      "cross validation score with roc_auc_ovr scoring 0.7361869190030527\n",
      "roc_auc_score 0.7691254813141014\n"
     ]
    }
   ],
   "source": [
    "# Create 2nd degree polynomial regression model\n",
    "poly = PolynomialRegression(2)\n",
    "\n",
    "# Train and fit the model\n",
    "poly.fit(X_train,y_train)\n",
    "\n",
    "# Test out-of-sample test set\n",
    "y_pred = poly.predict(X_test)\n",
    "\n",
    "# Calssification report\n",
    "print(metrics.classification_report(y_test, y_pred, digits=3))\n",
    "\n",
    "# Calculate cv score with 'roc_auc_ovr' scoring and 10 folds\n",
    "accuracy = cross_val_score(poly, X, y, scoring = 'roc_auc_ovr',cv=10)\n",
    "print('cross validation score with roc_auc_ovr scoring',accuracy.mean())\n",
    "\n",
    "# Calculate roc_auc score with multiclass parameter\n",
    "print('roc_auc_score',roc_auc_score(y_test,poly.predict_proba(X_test), multi_class='ovr'))"
   ]
  },
  {
   "cell_type": "markdown",
   "metadata": {},
   "source": [
    "We have a slight decrease in CV score but recall for minority classes started to increase.Though it's not enough. So, let's continue with adding 3rd degree polynomial features to the logistic regression model."
   ]
  },
  {
   "cell_type": "code",
   "execution_count": 22,
   "metadata": {},
   "outputs": [
    {
     "name": "stdout",
     "output_type": "stream",
     "text": [
      "              precision    recall  f1-score   support\n",
      "\n",
      "           4      0.348     0.296     0.320        27\n",
      "           5      0.615     0.515     0.560       270\n",
      "           6      0.571     0.669     0.616       411\n",
      "           7      0.496     0.401     0.444       167\n",
      "           8      0.344     0.478     0.400        23\n",
      "\n",
      "    accuracy                          0.557       898\n",
      "   macro avg      0.475     0.472     0.468       898\n",
      "weighted avg      0.558     0.557     0.553       898\n",
      "\n",
      "cross validation score with roc_auc_ovr scoring 0.6923965735919768\n",
      "roc_auc_score 0.7925163332419187\n"
     ]
    }
   ],
   "source": [
    "# Create 3rd degree polynomial regression model\n",
    "poly = PolynomialRegression(3)\n",
    "\n",
    "# Train and fit the model\n",
    "poly.fit(X_train,y_train)\n",
    "\n",
    "# Test out-of-sample test set\n",
    "y_pred = poly.predict(X_test)\n",
    "\n",
    "# Calssification report\n",
    "print(metrics.classification_report(y_test, y_pred, digits=3))\n",
    "\n",
    "# Calculate cv score with 'roc_auc_ovr' scoring and 10 folds\n",
    "accuracy = cross_val_score(poly, X, y, scoring = 'roc_auc_ovr',cv=10)\n",
    "print('cross validation score with roc_auc_ovr scoring',accuracy.mean())\n",
    "\n",
    "# Calculate roc_auc score with multiclass parameter\n",
    "print('roc_auc_score',roc_auc_score(y_test,poly.predict_proba(X_test), multi_class='ovr'))"
   ]
  },
  {
   "cell_type": "markdown",
   "metadata": {},
   "source": [
    "With 3rd degree polynomial regression model despite the increase in recall for minority classes, we now have a decrease in cross validation score."
   ]
  },
  {
   "cell_type": "markdown",
   "metadata": {},
   "source": [
    "### Decision Tree"
   ]
  },
  {
   "cell_type": "code",
   "execution_count": 23,
   "metadata": {},
   "outputs": [
    {
     "name": "stdout",
     "output_type": "stream",
     "text": [
      "              precision    recall  f1-score   support\n",
      "\n",
      "           4      0.429     0.333     0.375        27\n",
      "           5      0.662     0.589     0.624       270\n",
      "           6      0.659     0.672     0.665       411\n",
      "           7      0.570     0.611     0.590       167\n",
      "           8      0.308     0.522     0.387        23\n",
      "\n",
      "    accuracy                          0.621       898\n",
      "   macro avg      0.525     0.545     0.528       898\n",
      "weighted avg      0.627     0.621     0.623       898\n",
      "\n",
      "cross validation score with roc_auc_ovr scoring 0.5678725235747779\n",
      "roc_auc_score 0.7153687686161947\n"
     ]
    }
   ],
   "source": [
    "# Create Decision Tree Classification model\n",
    "tree = DecisionTreeClassifier(random_state=0)\n",
    "\n",
    "# Fit the model\n",
    "tree.fit(X_train, y_train)\n",
    "\n",
    "# Evaluate the model with out-of-sample test set\n",
    "y_pred = tree.predict(X_test)\n",
    "\n",
    "# Classification report\n",
    "print(metrics.classification_report(y_test, y_pred.round(), digits=3))\n",
    "\n",
    "# Calculate cv score with 'roc_auc_ovr' scoring and 10 folds\n",
    "accuracy = cross_val_score(tree, X, y,scoring = 'roc_auc_ovr',cv=10)\n",
    "print('cross validation score with roc_auc_ovr scoring',accuracy.mean())\n",
    "\n",
    "# Calculate roc_auc score with multiclass parameter\n",
    "print('roc_auc_score',roc_auc_score(y_test,tree.predict_proba(X_test), multi_class='ovr'))"
   ]
  },
  {
   "cell_type": "markdown",
   "metadata": {},
   "source": [
    "Decision tree model gives us higher recall but lower CV score. "
   ]
  },
  {
   "cell_type": "markdown",
   "metadata": {},
   "source": [
    "### Random Forest"
   ]
  },
  {
   "cell_type": "code",
   "execution_count": 24,
   "metadata": {},
   "outputs": [
    {
     "name": "stdout",
     "output_type": "stream",
     "text": [
      "              precision    recall  f1-score   support\n",
      "\n",
      "           4      0.714     0.185     0.294        27\n",
      "           5      0.742     0.670     0.704       270\n",
      "           6      0.662     0.815     0.731       411\n",
      "           7      0.679     0.533     0.597       167\n",
      "           8      1.000     0.435     0.606        23\n",
      "\n",
      "    accuracy                          0.690       898\n",
      "   macro avg      0.760     0.528     0.586       898\n",
      "weighted avg      0.699     0.690     0.682       898\n",
      "\n",
      "cross validation score with roc_auc_ovr scoring 0.7565877389842213\n",
      "roc_auc_score 0.8903611822230715\n"
     ]
    }
   ],
   "source": [
    "# Create Random Forest Classification model\n",
    "forest = RandomForestClassifier(n_estimators=100,random_state = 0)\n",
    "\n",
    "# Fit the model\n",
    "forest.fit(X_train, y_train)\n",
    "\n",
    "# Test out-of-sample test set\n",
    "y_pred = forest.predict(X_test)\n",
    "\n",
    "# Calssification report\n",
    "print(metrics.classification_report(y_test, y_pred.round(), digits=3))\n",
    "\n",
    "# Calculate cv score with 'roc_auc_ovr' scoring and 10 folds\n",
    "accuracy = cross_val_score(forest, X, y,scoring = 'roc_auc_ovr',cv=10)\n",
    "print('cross validation score with roc_auc_ovr scoring',accuracy.mean())\n",
    "\n",
    "# Calculate roc_auc score with multiclass parameter\n",
    "print('roc_auc_score',roc_auc_score(y_test,forest.predict_proba(X_test), multi_class='ovr'))"
   ]
  },
  {
   "cell_type": "markdown",
   "metadata": {},
   "source": [
    "With the random forest classifier CV score and roc_auc score increased significantly, but we still have a bad representation for minority classes. Let's find out if there is a way to both increase recall for all classes and and the CV score.\n",
    "\n",
    "In order to that, we will implement __SMOTE__ (Synthetic Minority Over-Sampling) algorithm to the random forest model. This will create synthetic minority class samples."
   ]
  },
  {
   "cell_type": "code",
   "execution_count": 25,
   "metadata": {},
   "outputs": [],
   "source": [
    "# Import SMOTE module\n",
    "from imblearn.over_sampling import SMOTE \n",
    "\n",
    "# Create model and fit the training set to create a new training set\n",
    "sm = SMOTE(random_state = 2) \n",
    "X_train_res, y_train_res = sm.fit_sample(X_train, y_train.ravel())"
   ]
  },
  {
   "cell_type": "code",
   "execution_count": 26,
   "metadata": {},
   "outputs": [
    {
     "name": "stdout",
     "output_type": "stream",
     "text": [
      "              precision    recall  f1-score   support\n",
      "\n",
      "           4      0.462     0.444     0.453        27\n",
      "           5      0.718     0.696     0.707       270\n",
      "           6      0.702     0.701     0.702       411\n",
      "           7      0.618     0.611     0.614       167\n",
      "           8      0.400     0.609     0.483        23\n",
      "\n",
      "    accuracy                          0.673       898\n",
      "   macro avg      0.580     0.612     0.592       898\n",
      "weighted avg      0.676     0.673     0.674       898\n",
      "\n",
      "cross validation score with roc_auc_ovr scoring 0.7565877389842213\n",
      "roc_auc_score 0.8969515816275242\n"
     ]
    }
   ],
   "source": [
    "# Create random forest model\n",
    "forest = RandomForestClassifier(n_estimators=100,random_state = 0)\n",
    "\n",
    "# Fit the model to the new train set\n",
    "forest.fit(X_train_res, y_train_res.ravel())\n",
    "\n",
    "# # Test out-of-sample test set\n",
    "y_pred = forest.predict(X_test)\n",
    "\n",
    "# Calssification report\n",
    "print(metrics.classification_report(y_test, y_pred.round(), digits=3))\n",
    "\n",
    "# Calculate cv score with 'roc_auc_ovr' scoring and 10 folds\n",
    "accuracy = cross_val_score(forest, X, y,scoring = 'roc_auc_ovr',cv=10)\n",
    "print('cross validation score with roc_auc_ovr scoring',accuracy.mean())\n",
    "\n",
    "# Calculate roc_auc score with multiclass parameter\n",
    "print('roc_auc_score',roc_auc_score(y_test,forest.predict_proba(X_test), multi_class='ovr'))"
   ]
  },
  {
   "cell_type": "markdown",
   "metadata": {},
   "source": [
    "## Conclusion\n",
    "\n",
    "ROC (Receiver operating characteristic) Curve is a plot that illustrates True Positive Rates (TPR) against the False Positive Rate (FPR) at various thresholds. And AUC (Area Under the Curve) is the percentage of the ROC plot that is underneath the curve.\n",
    "\n",
    "In this project, we used K-Nearest Neighbors, Logistic Regression with polynomial features, Decision Tree and Random Forest. With the `roc_auc_score` in Scikit-learn we calculated AUC score for each model. Also using `cross_val_score` method we found AUC score using cross validation method by passing `roc_auc_ovr` parameter. Even though it's usually used for performance evaluation in binary classification, with the One-vs-Rest approach, we applied it to the multi-class classification problems. Evaluating the model with this method is advantageous when there is a high class imbalance. Also it does not require to set a classification threshold.  \n",
    "\n",
    "If we compare the cross validation scores and recall results of all models we can see that the best results were obtained with __Random Forest Classifier__ with SMOTE method with __0.7565 cross validation score__. Since we had highly imbalanced classes, `SMOTE` created synthetic minority sampling to balance the samples. And trained the model as if we had balanced classes in our dataset.\n",
    "\n",
    "Even though we got the highest cross validation score which is around 0.75, it is still not an ideal model because the recall results are not representative enough for any of the classes. For this case, in order to improve the model we need more data to train the model."
   ]
  }
 ],
 "metadata": {
  "kernelspec": {
   "display_name": "Python 3",
   "language": "python",
   "name": "python3"
  },
  "language_info": {
   "codemirror_mode": {
    "name": "ipython",
    "version": 3
   },
   "file_extension": ".py",
   "mimetype": "text/x-python",
   "name": "python",
   "nbconvert_exporter": "python",
   "pygments_lexer": "ipython3",
   "version": "3.7.3"
  }
 },
 "nbformat": 4,
 "nbformat_minor": 2
}
